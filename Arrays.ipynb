{
  "nbformat": 4,
  "nbformat_minor": 0,
  "metadata": {
    "colab": {
      "name": "Arrays",
      "provenance": [],
      "authorship_tag": "ABX9TyMI7ZOHZszXs2xQxJcoHqtg",
      "include_colab_link": true
    },
    "kernelspec": {
      "name": "python3",
      "display_name": "Python 3"
    },
    "language_info": {
      "name": "python"
    }
  },
  "cells": [
    {
      "cell_type": "markdown",
      "metadata": {
        "id": "view-in-github",
        "colab_type": "text"
      },
      "source": [
        "<a href=\"https://colab.research.google.com/github/MansiVarshney5/DSA-Problem-Solving/blob/main/Arrays.ipynb\" target=\"_parent\"><img src=\"https://colab.research.google.com/assets/colab-badge.svg\" alt=\"Open In Colab\"/></a>"
      ]
    },
    {
      "cell_type": "markdown",
      "metadata": {
        "id": "XuY8ZKfxTzjz"
      },
      "source": [
        "### **(1)Finding the missing number (in any unsorted array)**"
      ]
    },
    {
      "cell_type": "markdown",
      "metadata": {
        "id": "gOto-pizVqmV"
      },
      "source": [
        "eg. arr=[1,2,3,4,6,7,8,9,10] , n=10  \n",
        "n -> all no. from 1 to n except one no. that we have to find"
      ]
    },
    {
      "cell_type": "code",
      "metadata": {
        "id": "EQnIN6AuYxNP"
      },
      "source": [
        "n=10\n",
        "arr=[3,2,4,1,6,8,10,9,7]"
      ],
      "execution_count": 5,
      "outputs": []
    },
    {
      "cell_type": "code",
      "metadata": {
        "colab": {
          "base_uri": "https://localhost:8080/"
        },
        "id": "6cdAALw1T5v6",
        "outputId": "1e62a898-f5b9-4c40-d53c-f44e7e850c82"
      },
      "source": [
        "for i in range(1,n+1):\n",
        "  if i not in arr:\n",
        "    print(i)\n"
      ],
      "execution_count": 6,
      "outputs": [
        {
          "output_type": "stream",
          "text": [
            "5\n"
          ],
          "name": "stdout"
        }
      ]
    },
    {
      "cell_type": "code",
      "metadata": {
        "colab": {
          "base_uri": "https://localhost:8080/"
        },
        "id": "h3gi6uHJXsfT",
        "outputId": "8e39c0c7-0306-4be5-f9d3-8bcfee975981"
      },
      "source": [
        "sum = n*(n+1)/2\n",
        "for i in arr:\n",
        "  sum = sum-i\n",
        "\n",
        "print(sum)\n"
      ],
      "execution_count": 7,
      "outputs": [
        {
          "output_type": "stream",
          "text": [
            "5.0\n"
          ],
          "name": "stdout"
        }
      ]
    },
    {
      "cell_type": "markdown",
      "metadata": {
        "id": "YYhDCge1aqSb"
      },
      "source": [
        "**XOR based solution**                                                                \n",
        "(no problem of numerical overflow here, ie. if n is very large)      \n",
        "Time complexity = O(n)             \n",
        "Space Complexity = O(1)\n"
      ]
    },
    {
      "cell_type": "code",
      "metadata": {
        "colab": {
          "base_uri": "https://localhost:8080/"
        },
        "id": "Ktti2vItYdgp",
        "outputId": "51f2a3da-7e26-484a-a252-de0aed46b205"
      },
      "source": [
        "X1 = 0\n",
        "for i in range(1,n+1):\n",
        "  X1 = X1^i\n",
        "\n",
        "X2 = 0\n",
        "for i in arr:\n",
        "  X2 = X2^i\n",
        "\n",
        "X1 ^ X2"
      ],
      "execution_count": 8,
      "outputs": [
        {
          "output_type": "execute_result",
          "data": {
            "text/plain": [
              "5"
            ]
          },
          "metadata": {
            "tags": []
          },
          "execution_count": 8
        }
      ]
    },
    {
      "cell_type": "markdown",
      "metadata": {
        "id": "tX54uAzGeAkN"
      },
      "source": [
        "### **(2)How Many Numbers Are Smaller Than the Current Number**"
      ]
    },
    {
      "cell_type": "code",
      "metadata": {
        "id": "JwHcytm8eMBX"
      },
      "source": [
        ""
      ],
      "execution_count": 8,
      "outputs": []
    }
  ]
}